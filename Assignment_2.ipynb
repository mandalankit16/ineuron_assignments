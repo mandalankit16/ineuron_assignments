{
 "cells": [
  {
   "cell_type": "code",
   "execution_count": null,
   "id": "efc9c8a2",
   "metadata": {},
   "outputs": [],
   "source": [
    "# Assignment 2"
   ]
  },
  {
   "cell_type": "code",
   "execution_count": 7,
   "id": "be5376d1",
   "metadata": {},
   "outputs": [
    {
     "name": "stdout",
     "output_type": "stream",
     "text": [
      "Enter number of dots 5\n",
      ". \n",
      ". . \n",
      ". . . \n",
      ". . . . \n",
      ". . . . . \n",
      ". . . . \n",
      ". . . \n",
      ". . \n",
      ". \n",
      "\n"
     ]
    }
   ],
   "source": [
    "# Program to create asterisk pattern using nested for loop in Python.\n",
    "n = int(input(\"Enter number of asterisk \"))\n",
    "for i in range(n):\n",
    "    for j in range(i+1):\n",
    "        print(\".\", end=\" \")\n",
    "    print(\"\") \n",
    "for i in range(n):\n",
    "    for j in range(n-1-i):\n",
    "        print(\".\", end=\" \")\n",
    "    print(\"\")    "
   ]
  },
  {
   "cell_type": "code",
   "execution_count": null,
   "id": "f44f6496",
   "metadata": {},
   "outputs": [],
   "source": []
  },
  {
   "cell_type": "code",
   "execution_count": 12,
   "id": "574d1bf8",
   "metadata": {},
   "outputs": [
    {
     "name": "stdout",
     "output_type": "stream",
     "text": [
      "Enter a word to reverse ineuron\n",
      "Input word: ineuron\n",
      "Output: norueni\n"
     ]
    }
   ],
   "source": [
    "# Python program to reverse a word after accepting the input from the user.\n",
    "s = input(\"Enter a word to reverse \")\n",
    "print(\"Input word:\",s)\n",
    "print(\"Output:\",s[::-1])"
   ]
  },
  {
   "cell_type": "code",
   "execution_count": null,
   "id": "705482fa",
   "metadata": {},
   "outputs": [],
   "source": []
  },
  {
   "cell_type": "code",
   "execution_count": null,
   "id": "58f6db9a",
   "metadata": {},
   "outputs": [],
   "source": []
  }
 ],
 "metadata": {
  "kernelspec": {
   "display_name": "Python 3",
   "language": "python",
   "name": "python3"
  },
  "language_info": {
   "codemirror_mode": {
    "name": "ipython",
    "version": 3
   },
   "file_extension": ".py",
   "mimetype": "text/x-python",
   "name": "python",
   "nbconvert_exporter": "python",
   "pygments_lexer": "ipython3",
   "version": "3.8.8"
  }
 },
 "nbformat": 4,
 "nbformat_minor": 5
}
