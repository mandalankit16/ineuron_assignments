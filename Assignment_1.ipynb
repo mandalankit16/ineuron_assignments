{
 "cells": [
  {
   "cell_type": "code",
   "execution_count": 44,
   "id": "ca43a4fe",
   "metadata": {},
   "outputs": [
    {
     "data": {
      "text/plain": [
       "639.8"
      ]
     },
     "execution_count": 44,
     "metadata": {},
     "output_type": "execute_result"
    }
   ],
   "source": [
    "# Solution to assignment 1"
   ]
  },
  {
   "cell_type": "code",
   "execution_count": 16,
   "id": "46d89bb2",
   "metadata": {},
   "outputs": [
    {
     "name": "stdout",
     "output_type": "stream",
     "text": [
      "2002,2009,2016,2023,2037,2044,2051,2058,2072,2079,2086,2093,2107,2114,2121,2128,2142,2149,2156,2163,2177,2184,2191,2198,2212,2219,2226,2233,2247,2254,2261,2268,2282,2289,2296,2303,2317,2324,2331,2338,2352,2359,2366,2373,2387,2394,2401,2408,2422,2429,2436,2443,2457,2464,2471,2478,2492,2499,2506,2513,2527,2534,2541,2548,2562,2569,2576,2583,2597,2604,2611,2618,2632,2639,2646,2653,2667,2674,2681,2688,2702,2709,2716,2723,2737,2744,2751,2758,2772,2779,2786,2793,2807,2814,2821,2828,2842,2849,2856,2863,2877,2884,2891,2898,2912,2919,2926,2933,2947,2954,2961,2968,2982,2989,2996,3003,3017,3024,3031,3038,3052,3059,3066,3073,3087,3094,3101,3108,3122,3129,3136,3143,3157,3164,3171,3178,3192,3199,"
     ]
    }
   ],
   "source": [
    "# Program to find the numbers between 2000 an 3200 that are divisible by 7 but not by 5.\n",
    "for i in range(2000,3201):\n",
    "    if i%7==0 :\n",
    "        if i%5!=0:\n",
    "            print(i, end=\",\")"
   ]
  },
  {
   "cell_type": "code",
   "execution_count": null,
   "id": "4ee8b5a1",
   "metadata": {},
   "outputs": [],
   "source": []
  },
  {
   "cell_type": "code",
   "execution_count": 43,
   "id": "2e209d1d",
   "metadata": {},
   "outputs": [
    {
     "name": "stdout",
     "output_type": "stream",
     "text": [
      "Enter your first name Ankit\n",
      "Enter your last name Mandal\n",
      "ladnaM tiknA\n"
     ]
    }
   ],
   "source": [
    "#Program to accept the user's first and last name and then getting them printed in the the reverse order with a space between first name and last name.\n",
    "a=input(\"Enter your first name \")\n",
    "b=input(\"Enter your last name \")\n",
    "s=a+\" \"+b\n",
    "\n",
    "print(s[::-1])"
   ]
  },
  {
   "cell_type": "code",
   "execution_count": 33,
   "id": "291d07bf",
   "metadata": {},
   "outputs": [],
   "source": []
  },
  {
   "cell_type": "code",
   "execution_count": 48,
   "id": "e55f5fc8",
   "metadata": {},
   "outputs": [
    {
     "name": "stdout",
     "output_type": "stream",
     "text": [
      "Volume of a Sphere with diameter 12 cm is 905.142857142857 cm**3\n"
     ]
    }
   ],
   "source": [
    "# Program to find the volume of a sphere.\n",
    "d = 12 #cm (diameter)\n",
    "r = d/2 #cm (radius)\n",
    "pi = 22/7\n",
    "V = (4/3)*pi*r**3\n",
    "print(\"Volume of a Sphere with diameter 12 cm is\",V,\"cm**3\")"
   ]
  },
  {
   "cell_type": "code",
   "execution_count": null,
   "id": "7c249271",
   "metadata": {},
   "outputs": [],
   "source": []
  }
 ],
 "metadata": {
  "kernelspec": {
   "display_name": "Python 3",
   "language": "python",
   "name": "python3"
  },
  "language_info": {
   "codemirror_mode": {
    "name": "ipython",
    "version": 3
   },
   "file_extension": ".py",
   "mimetype": "text/x-python",
   "name": "python",
   "nbconvert_exporter": "python",
   "pygments_lexer": "ipython3",
   "version": "3.8.8"
  }
 },
 "nbformat": 4,
 "nbformat_minor": 5
}
